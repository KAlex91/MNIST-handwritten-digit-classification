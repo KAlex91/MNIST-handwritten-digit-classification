{
 "cells": [
  {
   "cell_type": "markdown",
   "id": "lined-connectivity",
   "metadata": {},
   "source": [
    "# Importing Libraries\n",
    "   We will need to import some libraries. \n",
    "   **Numpy** is used for some math functions.\n",
    "   **Matplotlib** is used for visualizing the data whenever we need to.\n",
    "   **Keras** is used to create our neural network model.\n",
    "   **Sklearn** and **seaborn** are used in order to create a confusion matrix at the end."
   ]
  },
  {
   "cell_type": "code",
   "execution_count": 1,
   "id": "basic-archives",
   "metadata": {},
   "outputs": [],
   "source": [
    "import numpy as np\n",
    "import matplotlib.pyplot as plt\n",
    "%matplotlib inline\n",
    "import keras\n",
    "from keras.models import Sequential\n",
    "from keras.layers import Dense,Dropout\n",
    "from sklearn.metrics import confusion_matrix\n",
    "import seaborn as sns\n",
    "\n",
    "np.random.seed(1)"
   ]
  },
  {
   "cell_type": "markdown",
   "id": "labeled-batch",
   "metadata": {},
   "source": [
    "# Importing Dataset\n",
    "We import the **mnist** dataset directly from keras datasets, as it is a commonly used dataset for starting with machine learning"
   ]
  },
  {
   "cell_type": "code",
   "execution_count": 2,
   "id": "saving-paper",
   "metadata": {},
   "outputs": [],
   "source": [
    "from keras.datasets import mnist\n",
    "(x_train, y_train), (x_test, y_test) = mnist.load_data()"
   ]
  },
  {
   "cell_type": "code",
   "execution_count": 3,
   "id": "clear-donna",
   "metadata": {},
   "outputs": [
    {
     "name": "stdout",
     "output_type": "stream",
     "text": [
      "(60000, 28, 28) (60000,)\n",
      "(10000, 28, 28) (10000,)\n"
     ]
    }
   ],
   "source": [
    "print(x_train.shape, y_train.shape)\n",
    "print(x_test.shape, y_test.shape)"
   ]
  },
  {
   "cell_type": "markdown",
   "id": "personalized-bridge",
   "metadata": {},
   "source": [
    "# Visualizing the data\n",
    "For starters we want to visualize the data so we will use **matplotlib** to plot an example of each of the 10 classes that we have (from 0 to 9) in our input data. Then we will visualize the labels and convert them to a more convenient format."
   ]
  },
  {
   "cell_type": "code",
   "execution_count": 4,
   "id": "incoming-characteristic",
   "metadata": {},
   "outputs": [
    {
     "data": {
      "image/png": "[encoded data removed]",
      "text/plain": [
       "<Figure size 1440x1440 with 10 Axes>"
      ]
     },
     "metadata": {
      "needs_background": "light"
     },
     "output_type": "display_data"
    }
   ],
   "source": [
    "# Visualizing the data\n",
    "num_classes= 10\n",
    "f , ax = plt.subplots(1, num_classes, figsize=(20,20))\n",
    "\n",
    "for i in range (0, num_classes):\n",
    "    sample = x_train[ y_train == i][0]\n",
    "    ax[i].imshow(sample, cmap = 'gray')\n",
    "    ax[i].set_title(\"Label : {}\".format(i), fontsize = 20)"
   ]
  },
  {
   "cell_type": "code",
   "execution_count": 5,
   "id": "frequent-camping",
   "metadata": {},
   "outputs": [
    {
     "name": "stdout",
     "output_type": "stream",
     "text": [
      "5\n",
      "0\n",
      "4\n",
      "1\n",
      "9\n",
      "2\n",
      "1\n",
      "3\n",
      "1\n",
      "4\n"
     ]
    }
   ],
   "source": [
    "# To visualize the labels i printed the first 10 of them\n",
    "for i in range(10):\n",
    "    print(y_train[i])"
   ]
  },
  {
   "cell_type": "code",
   "execution_count": 6,
   "id": "catholic-ideal",
   "metadata": {},
   "outputs": [],
   "source": [
    "# Converting the labels in a better format\n",
    "y_train = keras.utils.to_categorical(y_train, num_classes)\n",
    "y_test = keras.utils.to_categorical(y_test, num_classes)"
   ]
  },
  {
   "cell_type": "code",
   "execution_count": 7,
   "id": "affected-finish",
   "metadata": {},
   "outputs": [
    {
     "name": "stdout",
     "output_type": "stream",
     "text": [
      "[0. 0. 0. 0. 0. 1. 0. 0. 0. 0.]\n",
      "[1. 0. 0. 0. 0. 0. 0. 0. 0. 0.]\n",
      "[0. 0. 0. 0. 1. 0. 0. 0. 0. 0.]\n",
      "[0. 1. 0. 0. 0. 0. 0. 0. 0. 0.]\n",
      "[0. 0. 0. 0. 0. 0. 0. 0. 0. 1.]\n",
      "[0. 0. 1. 0. 0. 0. 0. 0. 0. 0.]\n",
      "[0. 1. 0. 0. 0. 0. 0. 0. 0. 0.]\n",
      "[0. 0. 0. 1. 0. 0. 0. 0. 0. 0.]\n",
      "[0. 1. 0. 0. 0. 0. 0. 0. 0. 0.]\n",
      "[0. 0. 0. 0. 1. 0. 0. 0. 0. 0.]\n"
     ]
    }
   ],
   "source": [
    "# I am printing the labels again to see that they changed as intended\n",
    "for i in range(10):\n",
    "    print(y_train[i])"
   ]
  },
  {
   "cell_type": "markdown",
   "id": "rational-melissa",
   "metadata": {},
   "source": [
    "# Data Preparation\n",
    "In many machine learning projects, data preparation is one of the most important tasks in order to achieve optimal results.Fortunately, in this particular case, data preparation is quite a simple task. We will need to do two things. Firstly, we need to normalize our input data (instead of values between 0 and 255 we will normalize them between 0 and 1). Secondly, we will need to flatten our input data so instead of 2-dimensional shape of 28x28 we will have 1-dimentional shape of 784."
   ]
  },
  {
   "cell_type": "markdown",
   "id": "oriented-tumor",
   "metadata": {},
   "source": [
    "### Data Normalization"
   ]
  },
  {
   "cell_type": "code",
   "execution_count": 8,
   "id": "mysterious-command",
   "metadata": {},
   "outputs": [],
   "source": [
    "# We need to normalize the data so we take all the values from 0 to 255 and we\n",
    "# normalize them between 0 and 1 dividing by 255. This will make help a lot \n",
    "# with our calculations later.\n",
    "\n",
    "x_train = x_train / 255.0\n",
    "x_test = x_test / 255.0"
   ]
  },
  {
   "cell_type": "markdown",
   "id": "pretty-quilt",
   "metadata": {},
   "source": [
    "### Data Reshaping"
   ]
  },
  {
   "cell_type": "code",
   "execution_count": 9,
   "id": "finished-oliver",
   "metadata": {},
   "outputs": [
    {
     "data": {
      "text/plain": [
       "(28, 28)"
      ]
     },
     "execution_count": 9,
     "metadata": {},
     "output_type": "execute_result"
    }
   ],
   "source": [
    "#lets see the input data shape as it is\n",
    "x_train[0].shape"
   ]
  },
  {
   "cell_type": "code",
   "execution_count": 10,
   "id": "pleasant-thanks",
   "metadata": {},
   "outputs": [
    {
     "name": "stdout",
     "output_type": "stream",
     "text": [
      "(60000, 784)\n"
     ]
    }
   ],
   "source": [
    "# We will flatten the data from (28,28) matrices to (748,)\n",
    "\n",
    "x_train = x_train.reshape(x_train.shape[0], -1)\n",
    "x_test = x_test.reshape(x_test.shape[0], -1)\n",
    "print(x_train.shape)"
   ]
  },
  {
   "cell_type": "markdown",
   "id": "noble-southwest",
   "metadata": {},
   "source": [
    "# Create the Model (Fully Connected NN)\n",
    " The model that will be used is **Sequential**, which basically means a fully connected neural network.\n",
    " We will also use some common activation functions like **'relu'** and **'softmax'**. Also the **'dropout'** is used\n",
    " to avoid overfitting. Finally we use some common functions to measure loss (**categorical crossentropy**) and to optimize (**adam**)."
   ]
  },
  {
   "cell_type": "code",
   "execution_count": 11,
   "id": "welsh-basis",
   "metadata": {},
   "outputs": [
    {
     "name": "stdout",
     "output_type": "stream",
     "text": [
      "Model: \"sequential\"\n",
      "_________________________________________________________________\n",
      "Layer (type)                 Output Shape              Param #   \n",
      "=================================================================\n",
      "dense (Dense)                (None, 192)               150720    \n",
      "_________________________________________________________________\n",
      "dense_1 (Dense)              (None, 192)               37056     \n",
      "_________________________________________________________________\n",
      "dropout (Dropout)            (None, 192)               0         \n",
      "_________________________________________________________________\n",
      "dense_2 (Dense)              (None, 10)                1930      \n",
      "=================================================================\n",
      "Total params: 189,706\n",
      "Trainable params: 189,706\n",
      "Non-trainable params: 0\n",
      "_________________________________________________________________\n"
     ]
    }
   ],
   "source": [
    "\n",
    "model = Sequential()\n",
    "\n",
    "model.add(Dense(units=192, input_shape=(784,), activation='relu'))\n",
    "model.add(Dense(units=192, activation='relu'))\n",
    "model.add(Dropout(0.33))\n",
    "model.add(Dense(units=10, activation='softmax'))\n",
    "\n",
    "model.compile(loss='categorical_crossentropy', optimizer='adam', metrics=['accuracy'])\n",
    "model.summary()"
   ]
  },
  {
   "cell_type": "markdown",
   "id": "useful-cricket",
   "metadata": {},
   "source": [
    "# Training the Model\n",
    "Now for the easy part, the training. We will use batches to make it easier. After the training we will evaluate our model using the test data we have."
   ]
  },
  {
   "cell_type": "code",
   "execution_count": 12,
   "id": "injured-cleanup",
   "metadata": {},
   "outputs": [
    {
     "name": "stdout",
     "output_type": "stream",
     "text": [
      "Epoch 1/15\n",
      "118/118 [==============================] - 1s 6ms/step - loss: 0.5310 - accuracy: 0.8444\n",
      "Epoch 2/15\n",
      "118/118 [==============================] - 1s 5ms/step - loss: 0.1913 - accuracy: 0.9449\n",
      "Epoch 3/15\n",
      "118/118 [==============================] - 1s 5ms/step - loss: 0.1345 - accuracy: 0.9606\n",
      "Epoch 4/15\n",
      "118/118 [==============================] - 1s 5ms/step - loss: 0.1039 - accuracy: 0.9690\n",
      "Epoch 5/15\n",
      "118/118 [==============================] - 1s 5ms/step - loss: 0.0848 - accuracy: 0.9747\n",
      "Epoch 6/15\n",
      "118/118 [==============================] - 1s 5ms/step - loss: 0.0707 - accuracy: 0.9781\n",
      "Epoch 7/15\n",
      "118/118 [==============================] - 1s 5ms/step - loss: 0.0561 - accuracy: 0.9830\n",
      "Epoch 8/15\n",
      "118/118 [==============================] - 1s 5ms/step - loss: 0.0477 - accuracy: 0.9857\n",
      "Epoch 9/15\n",
      "118/118 [==============================] - 1s 5ms/step - loss: 0.0419 - accuracy: 0.9876\n",
      "Epoch 10/15\n",
      "118/118 [==============================] - 1s 5ms/step - loss: 0.0357 - accuracy: 0.9891\n",
      "Epoch 11/15\n",
      "118/118 [==============================] - 1s 5ms/step - loss: 0.0301 - accuracy: 0.9906\n",
      "Epoch 12/15\n",
      "118/118 [==============================] - 1s 5ms/step - loss: 0.0279 - accuracy: 0.9911\n",
      "Epoch 13/15\n",
      "118/118 [==============================] - 1s 5ms/step - loss: 0.0231 - accuracy: 0.9930\n",
      "Epoch 14/15\n",
      "118/118 [==============================] - 1s 5ms/step - loss: 0.0201 - accuracy: 0.9938\n",
      "Epoch 15/15\n",
      "118/118 [==============================] - 1s 5ms/step - loss: 0.0166 - accuracy: 0.9952\n"
     ]
    },
    {
     "data": {
      "text/plain": [
       "<tensorflow.python.keras.callbacks.History at 0x292b0fd4970>"
      ]
     },
     "execution_count": 12,
     "metadata": {},
     "output_type": "execute_result"
    }
   ],
   "source": [
    "batch_size = 512\n",
    "epochs = 15\n",
    "model.fit(x = x_train, y= y_train, batch_size = batch_size, epochs = epochs)"
   ]
  },
  {
   "cell_type": "code",
   "execution_count": 13,
   "id": "hindu-clause",
   "metadata": {},
   "outputs": [
    {
     "name": "stdout",
     "output_type": "stream",
     "text": [
      "313/313 [==============================] - 0s 515us/step - loss: 0.0651 - accuracy: 0.9808\n",
      "Test Loss: 0.06512269377708435, Test Accuracy: 0.9807999730110168\n"
     ]
    }
   ],
   "source": [
    "test_loss, test_acc = model.evaluate(x_test, y_test)\n",
    "print(\"Test Loss: {}, Test Accuracy: {}\".format(test_loss, test_acc))"
   ]
  },
  {
   "cell_type": "code",
   "execution_count": 14,
   "id": "considered-amateur",
   "metadata": {},
   "outputs": [
    {
     "name": "stdout",
     "output_type": "stream",
     "text": [
      "[[9.33523703e-10 4.68828318e-07 3.82642384e-06 ... 9.99981284e-01\n",
      "  9.30756006e-09 6.44278884e-07]\n",
      " [9.02875760e-11 1.72609566e-06 9.99996185e-01 ... 3.20684972e-11\n",
      "  1.70246733e-06 2.80395200e-13]\n",
      " [5.51579262e-07 9.99792397e-01 1.03116763e-05 ... 1.19325574e-04\n",
      "  6.48489731e-05 6.95105825e-07]\n",
      " ...\n",
      " [1.90857009e-12 8.10842227e-11 5.99821842e-14 ... 1.00152677e-08\n",
      "  2.58532362e-10 4.56092053e-08]\n",
      " [9.47010040e-11 2.89867557e-11 1.68424356e-13 ... 1.22338216e-11\n",
      "  9.87001613e-07 1.01024169e-12]\n",
      " [1.60768454e-10 2.31034913e-11 1.51476817e-11 ... 7.06180719e-14\n",
      "  3.20757761e-11 7.03849305e-13]]\n",
      "[7 2 1 ... 4 5 6]\n"
     ]
    },
    {
     "data": {
      "text/plain": [
       "<matplotlib.image.AxesImage at 0x292b24f1a30>"
      ]
     },
     "execution_count": 14,
     "metadata": {},
     "output_type": "execute_result"
    },
    {
     "data": {
      "image/png": "[encoded data removed]",
      "text/plain": [
       "<Figure size 432x288 with 1 Axes>"
      ]
     },
     "metadata": {
      "needs_background": "light"
     },
     "output_type": "display_data"
    }
   ],
   "source": [
    "# We can now visualize a single predicted example\n",
    "y_pred = model.predict(x_test)\n",
    "y_pred_classes = np.argmax(y_pred, axis=1)\n",
    "print(y_pred)\n",
    "print(y_pred_classes)\n",
    "\n",
    "random_idx = np.random.choice(len(x_test))\n",
    "x_sample = x_test[random_idx]\n",
    "y_true = np.argmax(y_test, axis=1)\n",
    "y_sample_true = y_true[random_idx]\n",
    "y_sample_pred_class = y_pred_classes[random_idx]\n",
    "\n",
    "plt.title(\"Predicted: {}, True: {}\".format(y_sample_pred_class, y_sample_true), fontsize=16)\n",
    "plt.imshow(x_sample.reshape(28, 28), cmap='gray')"
   ]
  },
  {
   "cell_type": "code",
   "execution_count": 15,
   "id": "meaning-college",
   "metadata": {
    "scrolled": true
   },
   "outputs": [
    {
     "data": {
      "image/png": "[encoded data removed]",
      "text/plain": [
       "<Figure size 1080x720 with 2 Axes>"
      ]
     },
     "metadata": {
      "needs_background": "light"
     },
     "output_type": "display_data"
    }
   ],
   "source": [
    "# Finally we can plot a confusion matrix to visualize how well our model can predict in the test data.\n",
    "confusion_mtx = confusion_matrix(y_true, y_pred_classes)\n",
    "\n",
    "# Plot\n",
    "fig, ax = plt.subplots(figsize=(15,10))\n",
    "ax = sns.heatmap(confusion_mtx, annot=True, fmt='d', ax=ax, cmap=\"Blues\")\n",
    "ax.set_xlabel('Predicted Label')\n",
    "ax.set_ylabel('True Label')\n",
    "ax.set_title('Confusion Matrix');\n"
   ]
  },
  {
   "cell_type": "code",
   "execution_count": null,
   "id": "announced-blackberry",
   "metadata": {},
   "outputs": [],
   "source": []
  }
 ],
 "metadata": {
  "kernelspec": {
   "display_name": "Python 3",
   "language": "python",
   "name": "python3"
  },
  "language_info": {
   "codemirror_mode": {
    "name": "ipython",
    "version": 3
   },
   "file_extension": ".py",
   "mimetype": "text/x-python",
   "name": "python",
   "nbconvert_exporter": "python",
   "pygments_lexer": "ipython3",
   "version": "3.8.5"
  }
 },
 "nbformat": 4,
 "nbformat_minor": 5
}
