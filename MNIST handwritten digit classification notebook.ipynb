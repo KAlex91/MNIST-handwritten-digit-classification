{
 "cells": [
  {
   "cell_type": "markdown",
   "id": "lined-connectivity",
   "metadata": {},
   "source": [
    "# Importing Libraries\n",
    "   We will need to import some libraries. \n",
    "   **Numpy** is used for some math functions.\n",
    "   **Matplotlib** is used for visualizing the data whenever we need to.\n",
    "   **Keras** is used to create our neural network model.\n",
    "   **Sklearn** and **seaborn** are used in order to create a confusion matrix at the end."
   ]
  },
  {
   "cell_type": "code",
   "execution_count": 1,
   "id": "basic-archives",
   "metadata": {},
   "outputs": [],
   "source": [
    "import numpy as np\n",
    "import matplotlib.pyplot as plt\n",
    "%matplotlib inline\n",
    "import keras\n",
    "from keras.models import Sequential\n",
    "from keras.layers import Dense,Dropout\n",
    "from sklearn.metrics import confusion_matrix\n",
    "import seaborn as sns\n",
    "\n",
    "np.random.seed(1)"
   ]
  },
  {
   "cell_type": "markdown",
   "id": "labeled-batch",
   "metadata": {},
   "source": [
    "# Importing Dataset\n",
    "We import the **mnist** dataset directly from keras datasets, as it is a commonly used dataset for starting with machine learning"
   ]
  },
  {
   "cell_type": "code",
   "execution_count": 2,
   "id": "saving-paper",
   "metadata": {},
   "outputs": [],
   "source": [
    "from keras.datasets import mnist\n",
    "(x_train, y_train), (x_test, y_test) = mnist.load_data()"
   ]
  },
  {
   "cell_type": "code",
   "execution_count": 3,
   "id": "clear-donna",
   "metadata": {},
   "outputs": [
    {
     "name": "stdout",
     "output_type": "stream",
     "text": [
      "(60000, 28, 28) (60000,)\n",
      "(10000, 28, 28) (10000,)\n"
     ]
    }
   ],
   "source": [
    "print(x_train.shape, y_train.shape)\n",
    "print(x_test.shape, y_test.shape)"
   ]
  },
  {
   "cell_type": "markdown",
   "id": "personalized-bridge",
   "metadata": {},
   "source": [
    "# Visualizing the data\n",
    "For starters we want to visualize the data so we will use **matplotlib** to plot an example of each of the 10 classes that we have (from 0 to 9) in our input data. Then we will visualize the labels and convert them to a more convenient format."
   ]
  },
  {
   "cell_type": "code",
   "execution_count": 4,
   "id": "incoming-characteristic",
   "metadata": {},
   "outputs": [
    {
     "data": {
      "image/png": "[encoded data removed]",
      "text/plain": [
       "<Figure size 1440x1440 with 10 Axes>"
      ]
     },
     "metadata": {
      "needs_background": "light"
     },
     "output_type": "display_data"
    }
   ],
   "source": [
    "# Visualizing the data\n",
    "num_classes= 10\n",
    "f , ax = plt.subplots(1, num_classes, figsize=(20,20))\n",
    "\n",
    "for i in range (0, num_classes):\n",
    "    sample = x_train[ y_train == i][0]\n",
    "    ax[i].imshow(sample, cmap = plt.cm.binary)\n",
    "    ax[i].set_title(\"Label : {}\".format(i), fontsize = 20)"
   ]
  },
  {
   "cell_type": "code",
   "execution_count": 5,
   "id": "frequent-camping",
   "metadata": {},
   "outputs": [
    {
     "name": "stdout",
     "output_type": "stream",
     "text": [
      "5\n",
      "0\n",
      "4\n",
      "1\n",
      "9\n",
      "2\n",
      "1\n",
      "3\n",
      "1\n",
      "4\n"
     ]
    }
   ],
   "source": [
    "# To visualize the labels i printed the first 10 of them\n",
    "for i in range(10):\n",
    "    print(y_train[i])"
   ]
  },
  {
   "cell_type": "code",
   "execution_count": 6,
   "id": "catholic-ideal",
   "metadata": {},
   "outputs": [],
   "source": [
    "# Converting the labels in a better format\n",
    "y_train = keras.utils.to_categorical(y_train, num_classes)\n",
    "y_test = keras.utils.to_categorical(y_test, num_classes)"
   ]
  },
  {
   "cell_type": "code",
   "execution_count": 7,
   "id": "affected-finish",
   "metadata": {},
   "outputs": [
    {
     "name": "stdout",
     "output_type": "stream",
     "text": [
      "[0. 0. 0. 0. 0. 1. 0. 0. 0. 0.]\n",
      "[1. 0. 0. 0. 0. 0. 0. 0. 0. 0.]\n",
      "[0. 0. 0. 0. 1. 0. 0. 0. 0. 0.]\n",
      "[0. 1. 0. 0. 0. 0. 0. 0. 0. 0.]\n",
      "[0. 0. 0. 0. 0. 0. 0. 0. 0. 1.]\n",
      "[0. 0. 1. 0. 0. 0. 0. 0. 0. 0.]\n",
      "[0. 1. 0. 0. 0. 0. 0. 0. 0. 0.]\n",
      "[0. 0. 0. 1. 0. 0. 0. 0. 0. 0.]\n",
      "[0. 1. 0. 0. 0. 0. 0. 0. 0. 0.]\n",
      "[0. 0. 0. 0. 1. 0. 0. 0. 0. 0.]\n"
     ]
    }
   ],
   "source": [
    "# I am printing the labels again to see that they changed as intended\n",
    "for i in range(10):\n",
    "    print(y_train[i])"
   ]
  },
  {
   "cell_type": "markdown",
   "id": "rational-melissa",
   "metadata": {},
   "source": [
    "# Data Preparation\n",
    "In many machine learning projects, data preparation is one of the most important tasks in order to achieve optimal results.Fortunately, in this particular case, data preparation is quite a simple task. We will need to do two things. Firstly, we need to normalize our input data (instead of values between 0 and 255 we will normalize them between 0 and 1). Secondly, we will need to flatten our input data so instead of 2-dimensional shape of 28x28 we will have 1-dimentional shape of 784."
   ]
  },
  {
   "cell_type": "markdown",
   "id": "oriented-tumor",
   "metadata": {},
   "source": [
    "### Data Normalization"
   ]
  },
  {
   "cell_type": "code",
   "execution_count": 8,
   "id": "mysterious-command",
   "metadata": {},
   "outputs": [],
   "source": [
    "# We need to normalize the data so we take all the values from 0 to 255 and we\n",
    "# normalize them between 0 and 1 dividing by 255. This will make help a lot \n",
    "# with our calculations later.\n",
    "\n",
    "# x_train = tf.keras.utils.normalize(x_train, axis = 1)\n",
    "# x_test = tf.keras.utils.normalize(x_test, axis = 1)\n",
    "# or simply do :\n",
    "\n",
    "x_train = x_train / 255.0\n",
    "x_test = x_test / 255.0"
   ]
  },
  {
   "cell_type": "markdown",
   "id": "pretty-quilt",
   "metadata": {},
   "source": [
    "### Data Reshaping"
   ]
  },
  {
   "cell_type": "code",
   "execution_count": 9,
   "id": "finished-oliver",
   "metadata": {},
   "outputs": [
    {
     "data": {
      "text/plain": [
       "(28, 28)"
      ]
     },
     "execution_count": 9,
     "metadata": {},
     "output_type": "execute_result"
    }
   ],
   "source": [
    "#lets see the input data shape as it is\n",
    "x_train[0].shape"
   ]
  },
  {
   "cell_type": "code",
   "execution_count": 10,
   "id": "pleasant-thanks",
   "metadata": {},
   "outputs": [
    {
     "name": "stdout",
     "output_type": "stream",
     "text": [
      "(60000, 784)\n"
     ]
    }
   ],
   "source": [
    "# We will flatten the data from (28,28) matrices to (748,)\n",
    "\n",
    "x_train = x_train.reshape(x_train.shape[0], -1)\n",
    "x_test = x_test.reshape(x_test.shape[0], -1)\n",
    "print(x_train.shape)"
   ]
  },
  {
   "cell_type": "markdown",
   "id": "noble-southwest",
   "metadata": {},
   "source": [
    "# Create the Model (Fully Connected NN)\n",
    " The model that will be used is **Sequential**, which basically means a fully connected neural network.\n",
    " We will also use some common activation functions like **'relu'** and **'softmax'**. Also the **'dropout'** is used\n",
    " to avoid overfitting. Finally we use some common functions to measure loss (**categorical crossentropy**) and to optimize (**adam**)."
   ]
  },
  {
   "cell_type": "code",
   "execution_count": 11,
   "id": "welsh-basis",
   "metadata": {},
   "outputs": [
    {
     "name": "stdout",
     "output_type": "stream",
     "text": [
      "Model: \"sequential\"\n",
      "_________________________________________________________________\n",
      "Layer (type)                 Output Shape              Param #   \n",
      "=================================================================\n",
      "dense (Dense)                (None, 192)               150720    \n",
      "_________________________________________________________________\n",
      "dense_1 (Dense)              (None, 192)               37056     \n",
      "_________________________________________________________________\n",
      "dropout (Dropout)            (None, 192)               0         \n",
      "_________________________________________________________________\n",
      "dense_2 (Dense)              (None, 10)                1930      \n",
      "=================================================================\n",
      "Total params: 189,706\n",
      "Trainable params: 189,706\n",
      "Non-trainable params: 0\n",
      "_________________________________________________________________\n"
     ]
    }
   ],
   "source": [
    "\n",
    "model = Sequential()\n",
    "\n",
    "model.add(Dense(units=192, input_shape=(784,), activation='relu'))\n",
    "model.add(Dense(units=192, activation='relu'))\n",
    "model.add(Dropout(0.33))\n",
    "model.add(Dense(units=10, activation='softmax'))\n",
    "\n",
    "model.compile(loss='categorical_crossentropy', optimizer='adam', metrics=['accuracy'])\n",
    "model.summary()"
   ]
  },
  {
   "cell_type": "markdown",
   "id": "useful-cricket",
   "metadata": {},
   "source": [
    "# Training the Model\n",
    "Now for the easy part, the training. We will use batches to make it easier. After the training we will evaluate our model using the test data we have."
   ]
  },
  {
   "cell_type": "code",
   "execution_count": 12,
   "id": "injured-cleanup",
   "metadata": {},
   "outputs": [
    {
     "name": "stdout",
     "output_type": "stream",
     "text": [
      "Epoch 1/15\n",
      "118/118 [==============================] - 1s 5ms/step - loss: 0.5342 - accuracy: 0.8438\n",
      "Epoch 2/15\n",
      "118/118 [==============================] - 1s 5ms/step - loss: 0.1942 - accuracy: 0.9435\n",
      "Epoch 3/15\n",
      "118/118 [==============================] - 1s 5ms/step - loss: 0.1401 - accuracy: 0.9587\n",
      "Epoch 4/15\n",
      "118/118 [==============================] - 1s 5ms/step - loss: 0.1078 - accuracy: 0.9677\n",
      "Epoch 5/15\n",
      "118/118 [==============================] - 1s 5ms/step - loss: 0.0867 - accuracy: 0.9745\n",
      "Epoch 6/15\n",
      "118/118 [==============================] - 1s 5ms/step - loss: 0.0733 - accuracy: 0.9779\n",
      "Epoch 7/15\n",
      "118/118 [==============================] - 1s 5ms/step - loss: 0.0627 - accuracy: 0.9811\n",
      "Epoch 8/15\n",
      "118/118 [==============================] - 1s 5ms/step - loss: 0.0517 - accuracy: 0.9844\n",
      "Epoch 9/15\n",
      "118/118 [==============================] - 1s 5ms/step - loss: 0.0447 - accuracy: 0.9866\n",
      "Epoch 10/15\n",
      "118/118 [==============================] - 1s 5ms/step - loss: 0.0397 - accuracy: 0.9874\n",
      "Epoch 11/15\n",
      "118/118 [==============================] - 1s 5ms/step - loss: 0.0349 - accuracy: 0.9891\n",
      "Epoch 12/15\n",
      "118/118 [==============================] - 1s 5ms/step - loss: 0.0303 - accuracy: 0.9906\n",
      "Epoch 13/15\n",
      "118/118 [==============================] - 1s 5ms/step - loss: 0.0258 - accuracy: 0.9922\n",
      "Epoch 14/15\n",
      "118/118 [==============================] - 1s 5ms/step - loss: 0.0221 - accuracy: 0.9932\n",
      "Epoch 15/15\n",
      "118/118 [==============================] - 1s 5ms/step - loss: 0.0190 - accuracy: 0.9942\n"
     ]
    },
    {
     "data": {
      "text/plain": [
       "<tensorflow.python.keras.callbacks.History at 0x26ab7114970>"
      ]
     },
     "execution_count": 12,
     "metadata": {},
     "output_type": "execute_result"
    }
   ],
   "source": [
    "batch_size = 512\n",
    "epochs = 15\n",
    "model.fit(x = x_train, y= y_train, batch_size = batch_size, epochs = epochs)"
   ]
  },
  {
   "cell_type": "code",
   "execution_count": 13,
   "id": "hindu-clause",
   "metadata": {},
   "outputs": [
    {
     "name": "stdout",
     "output_type": "stream",
     "text": [
      "313/313 [==============================] - 0s 499us/step - loss: 0.0668 - accuracy: 0.9798\n",
      "Test Loss: 0.06675480306148529, Test Accuracy: 0.9797999858856201\n"
     ]
    }
   ],
   "source": [
    "test_loss, test_acc = model.evaluate(x_test, y_test)\n",
    "print(\"Test Loss: {}, Test Accuracy: {}\".format(test_loss, test_acc))"
   ]
  },
  {
   "cell_type": "code",
   "execution_count": 16,
   "id": "considered-amateur",
   "metadata": {},
   "outputs": [
    {
     "name": "stdout",
     "output_type": "stream",
     "text": [
      "[[4.90856911e-09 1.77618162e-07 6.36191544e-07 ... 9.99934077e-01\n",
      "  4.59392851e-07 1.70667249e-06]\n",
      " [1.20533574e-08 2.86104432e-06 9.99994636e-01 ... 3.68524683e-10\n",
      "  1.13490275e-08 2.73934022e-12]\n",
      " [1.59636670e-06 9.99734819e-01 1.61284988e-05 ... 9.17656653e-05\n",
      "  1.03165359e-04 4.05400044e-07]\n",
      " ...\n",
      " [2.73643053e-11 4.41028281e-09 2.43169269e-11 ... 3.63949567e-07\n",
      "  9.39925027e-09 9.30787607e-08]\n",
      " [1.71416579e-11 1.56288073e-11 1.44849573e-13 ... 2.41155845e-11\n",
      "  6.90083937e-07 2.02311380e-13]\n",
      " [9.26578902e-09 3.00659220e-11 6.97729201e-12 ... 2.77513405e-14\n",
      "  5.25790392e-12 8.38427661e-11]]\n",
      "[7 2 1 ... 4 5 6]\n"
     ]
    },
    {
     "data": {
      "text/plain": [
       "<matplotlib.image.AxesImage at 0x26ab87afca0>"
      ]
     },
     "execution_count": 16,
     "metadata": {},
     "output_type": "execute_result"
    },
    {
     "data": {
      "image/png": "[encoded data removed]",
      "text/plain": [
       "<Figure size 432x288 with 1 Axes>"
      ]
     },
     "metadata": {
      "needs_background": "light"
     },
     "output_type": "display_data"
    }
   ],
   "source": [
    "# We can now visualize a single predicted example\n",
    "y_pred = model.predict(x_test)\n",
    "y_pred_classes = np.argmax(y_pred, axis=1)\n",
    "print(y_pred)\n",
    "print(y_pred_classes)\n",
    "\n",
    "rand = np.random.choice(len(x_test))\n",
    "x_sample = x_test[rand]\n",
    "y_true = np.argmax(y_test, axis=1)\n",
    "y_sample_true = y_true[random_idx]\n",
    "y_sample_pred_class = y_pred_classes[rand]\n",
    "\n",
    "plt.title(\"Predicted: {}, True: {}\".format(y_sample_pred_class, y_sample_true), fontsize=16)\n",
    "plt.imshow(x_sample.reshape(28, 28), cmap='gray')"
   ]
  },
  {
   "cell_type": "code",
   "execution_count": 15,
   "id": "meaning-college",
   "metadata": {
    "scrolled": true
   },
   "outputs": [
    {
     "data": {
      "image/png": "[encoded data removed]",
      "text/plain": [
       "<Figure size 1080x720 with 2 Axes>"
      ]
     },
     "metadata": {
      "needs_background": "light"
     },
     "output_type": "display_data"
    }
   ],
   "source": [
    "# Finally we can plot a confusion matrix to visualize how well our model can predict in the test data.\n",
    "confusion_mtx = confusion_matrix(y_true, y_pred_classes)\n",
    "\n",
    "# Plot\n",
    "fig, ax = plt.subplots(figsize=(15,10))\n",
    "ax = sns.heatmap(confusion_mtx, annot=True, fmt='d', ax=ax, cmap=\"Greens\")\n",
    "ax.set_xlabel('Predicted Label')\n",
    "ax.set_ylabel('True Label')\n",
    "ax.set_title('Confusion Matrix');\n"
   ]
  },
  {
   "cell_type": "code",
   "execution_count": null,
   "id": "announced-blackberry",
   "metadata": {},
   "outputs": [],
   "source": []
  }
 ],
 "metadata": {
  "kernelspec": {
   "display_name": "Python 3",
   "language": "python",
   "name": "python3"
  },
  "language_info": {
   "codemirror_mode": {
    "name": "ipython",
    "version": 3
   },
   "file_extension": ".py",
   "mimetype": "text/x-python",
   "name": "python",
   "nbconvert_exporter": "python",
   "pygments_lexer": "ipython3",
   "version": "3.8.5"
  }
 },
 "nbformat": 4,
 "nbformat_minor": 5
}
