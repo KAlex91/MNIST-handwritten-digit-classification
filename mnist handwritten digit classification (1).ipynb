{
 "cells": [
  {
   "cell_type": "markdown",
   "id": "lined-connectivity",
   "metadata": {},
   "source": [
    "# Importing Libraries"
   ]
  },
  {
   "cell_type": "code",
   "execution_count": 1,
   "id": "basic-archives",
   "metadata": {},
   "outputs": [],
   "source": [
    "import numpy as np\n",
    "import matplotlib.pyplot as plt\n",
    "%matplotlib inline\n",
    "import keras\n",
    "from keras.models import Sequential\n",
    "from keras.layers import Dense,Dropout\n",
    "from sklearn.metrics import confusion_matrix\n",
    "import seaborn as sns\n",
    "\n",
    "np.random.seed(0)"
   ]
  },
  {
   "cell_type": "markdown",
   "id": "labeled-batch",
   "metadata": {},
   "source": [
    "# Importing Dataset"
   ]
  },
  {
   "cell_type": "code",
   "execution_count": 2,
   "id": "saving-paper",
   "metadata": {},
   "outputs": [],
   "source": [
    "from keras.datasets import mnist\n",
    "(x_train, y_train), (x_test, y_test) = mnist.load_data()"
   ]
  },
  {
   "cell_type": "code",
   "execution_count": 3,
   "id": "clear-donna",
   "metadata": {},
   "outputs": [
    {
     "name": "stdout",
     "output_type": "stream",
     "text": [
      "(60000, 28, 28) (60000,)\n",
      "(10000, 28, 28) (10000,)\n"
     ]
    }
   ],
   "source": [
    "print(x_train.shape, y_train.shape)\n",
    "print(x_test.shape, y_test.shape)"
   ]
  },
  {
   "cell_type": "markdown",
   "id": "personalized-bridge",
   "metadata": {},
   "source": [
    "# Visualizing the data"
   ]
  },
  {
   "cell_type": "code",
   "execution_count": 4,
   "id": "incoming-characteristic",
   "metadata": {},
   "outputs": [
    {
     "data": {
      "image/png": "[encoded data removed]",
      "text/plain": [
       "<Figure size 2016x2016 with 10 Axes>"
      ]
     },
     "metadata": {
      "needs_background": "light"
     },
     "output_type": "display_data"
    }
   ],
   "source": [
    "# Visualizing the data\n",
    "num_classes= 10\n",
    "f , ax = plt.subplots(1, num_classes, figsize=(28,28))\n",
    "\n",
    "for i in range (0, num_classes):\n",
    "    sample = x_train[ y_train == i][0]\n",
    "    ax[i].imshow(sample, cmap = 'gray')\n",
    "    ax[i].set_title(\"Label : {}\".format(i), fontsize = 20)"
   ]
  },
  {
   "cell_type": "code",
   "execution_count": 5,
   "id": "frequent-camping",
   "metadata": {},
   "outputs": [
    {
     "name": "stdout",
     "output_type": "stream",
     "text": [
      "5\n",
      "0\n",
      "4\n",
      "1\n",
      "9\n",
      "2\n",
      "1\n",
      "3\n",
      "1\n",
      "4\n"
     ]
    }
   ],
   "source": [
    "# Visualizing the labels\n",
    "for i in range(10):\n",
    "    print(y_train[i])"
   ]
  },
  {
   "cell_type": "code",
   "execution_count": 6,
   "id": "catholic-ideal",
   "metadata": {},
   "outputs": [],
   "source": [
    "# Converting the labels in a better format\n",
    "y_train = keras.utils.to_categorical(y_train, num_classes)\n",
    "y_test = keras.utils.to_categorical(y_test, num_classes)"
   ]
  },
  {
   "cell_type": "code",
   "execution_count": 7,
   "id": "affected-finish",
   "metadata": {},
   "outputs": [
    {
     "name": "stdout",
     "output_type": "stream",
     "text": [
      "[0. 0. 0. 0. 0. 1. 0. 0. 0. 0.]\n",
      "[1. 0. 0. 0. 0. 0. 0. 0. 0. 0.]\n",
      "[0. 0. 0. 0. 1. 0. 0. 0. 0. 0.]\n",
      "[0. 1. 0. 0. 0. 0. 0. 0. 0. 0.]\n",
      "[0. 0. 0. 0. 0. 0. 0. 0. 0. 1.]\n",
      "[0. 0. 1. 0. 0. 0. 0. 0. 0. 0.]\n",
      "[0. 1. 0. 0. 0. 0. 0. 0. 0. 0.]\n",
      "[0. 0. 0. 1. 0. 0. 0. 0. 0. 0.]\n",
      "[0. 1. 0. 0. 0. 0. 0. 0. 0. 0.]\n",
      "[0. 0. 0. 0. 1. 0. 0. 0. 0. 0.]\n"
     ]
    }
   ],
   "source": [
    "for i in range(10):\n",
    "    print(y_train[i])"
   ]
  },
  {
   "cell_type": "markdown",
   "id": "rational-melissa",
   "metadata": {},
   "source": [
    "# Data Preparation"
   ]
  },
  {
   "cell_type": "markdown",
   "id": "oriented-tumor",
   "metadata": {},
   "source": [
    "### Data Normalization"
   ]
  },
  {
   "cell_type": "code",
   "execution_count": 8,
   "id": "mysterious-command",
   "metadata": {},
   "outputs": [],
   "source": [
    "# We need to normalize the data so we take all the values from 0 to 255 and we\n",
    "# normalize them between 0 and 1 dividing by 255. This will make help a lot \n",
    "# with our calculations later.\n",
    "\n",
    "x_train = x_train / 255.0\n",
    "x_test = x_test / 255.0"
   ]
  },
  {
   "cell_type": "markdown",
   "id": "pretty-quilt",
   "metadata": {},
   "source": [
    "### Data Reshaping"
   ]
  },
  {
   "cell_type": "code",
   "execution_count": 9,
   "id": "finished-oliver",
   "metadata": {},
   "outputs": [
    {
     "data": {
      "text/plain": [
       "(28, 28)"
      ]
     },
     "execution_count": 9,
     "metadata": {},
     "output_type": "execute_result"
    }
   ],
   "source": [
    "#lets see the data shape as it is\n",
    "x_train[0].shape"
   ]
  },
  {
   "cell_type": "code",
   "execution_count": 10,
   "id": "pleasant-thanks",
   "metadata": {},
   "outputs": [
    {
     "name": "stdout",
     "output_type": "stream",
     "text": [
      "(60000, 784)\n"
     ]
    }
   ],
   "source": [
    "# We will flatten the data from (28,28) to (748,)\n",
    "\n",
    "x_train = x_train.reshape(x_train.shape[0], -1)\n",
    "x_test = x_test.reshape(x_test.shape[0], -1)\n",
    "print(x_train.shape)"
   ]
  },
  {
   "cell_type": "markdown",
   "id": "noble-southwest",
   "metadata": {},
   "source": [
    "# Create the Model (Fully Connected NN)"
   ]
  },
  {
   "cell_type": "code",
   "execution_count": 11,
   "id": "welsh-basis",
   "metadata": {},
   "outputs": [
    {
     "name": "stdout",
     "output_type": "stream",
     "text": [
      "Model: \"sequential\"\n",
      "_________________________________________________________________\n",
      "Layer (type)                 Output Shape              Param #   \n",
      "=================================================================\n",
      "dense (Dense)                (None, 128)               100480    \n",
      "_________________________________________________________________\n",
      "dense_1 (Dense)              (None, 128)               16512     \n",
      "_________________________________________________________________\n",
      "dropout (Dropout)            (None, 128)               0         \n",
      "_________________________________________________________________\n",
      "dense_2 (Dense)              (None, 10)                1290      \n",
      "=================================================================\n",
      "Total params: 118,282\n",
      "Trainable params: 118,282\n",
      "Non-trainable params: 0\n",
      "_________________________________________________________________\n"
     ]
    }
   ],
   "source": [
    "model = Sequential()\n",
    "\n",
    "model.add(Dense(units=128, input_shape=(784,), activation='relu'))\n",
    "model.add(Dense(units=128, activation='relu'))\n",
    "model.add(Dropout(0.25))\n",
    "model.add(Dense(units=10, activation='softmax'))\n",
    "\n",
    "model.compile(loss='categorical_crossentropy', optimizer='adam', metrics=['accuracy'])\n",
    "model.summary()"
   ]
  },
  {
   "cell_type": "markdown",
   "id": "useful-cricket",
   "metadata": {},
   "source": [
    "# Training the Model"
   ]
  },
  {
   "cell_type": "code",
   "execution_count": 12,
   "id": "injured-cleanup",
   "metadata": {},
   "outputs": [
    {
     "name": "stdout",
     "output_type": "stream",
     "text": [
      "Epoch 1/15\n",
      "118/118 [==============================] - 1s 5ms/step - loss: 0.6059 - accuracy: 0.8240\n",
      "Epoch 2/15\n",
      "118/118 [==============================] - 1s 4ms/step - loss: 0.2305 - accuracy: 0.9339\n",
      "Epoch 3/15\n",
      "118/118 [==============================] - 0s 4ms/step - loss: 0.1695 - accuracy: 0.9510\n",
      "Epoch 4/15\n",
      "118/118 [==============================] - 0s 4ms/step - loss: 0.1328 - accuracy: 0.9610\n",
      "Epoch 5/15\n",
      "118/118 [==============================] - 0s 4ms/step - loss: 0.1123 - accuracy: 0.9671\n",
      "Epoch 6/15\n",
      "118/118 [==============================] - 0s 4ms/step - loss: 0.0951 - accuracy: 0.9717\n",
      "Epoch 7/15\n",
      "118/118 [==============================] - 0s 4ms/step - loss: 0.0819 - accuracy: 0.9753\n",
      "Epoch 8/15\n",
      "118/118 [==============================] - 1s 4ms/step - loss: 0.0721 - accuracy: 0.9781\n",
      "Epoch 9/15\n",
      "118/118 [==============================] - 1s 4ms/step - loss: 0.0630 - accuracy: 0.9809\n",
      "Epoch 10/15\n",
      "118/118 [==============================] - 1s 4ms/step - loss: 0.0551 - accuracy: 0.9834\n",
      "Epoch 11/15\n",
      "118/118 [==============================] - 0s 4ms/step - loss: 0.0492 - accuracy: 0.9848\n",
      "Epoch 12/15\n",
      "118/118 [==============================] - 1s 4ms/step - loss: 0.0429 - accuracy: 0.9865\n",
      "Epoch 13/15\n",
      "118/118 [==============================] - 0s 4ms/step - loss: 0.0378 - accuracy: 0.9883\n",
      "Epoch 14/15\n",
      "118/118 [==============================] - 1s 4ms/step - loss: 0.0341 - accuracy: 0.9898\n",
      "Epoch 15/15\n",
      "118/118 [==============================] - 0s 4ms/step - loss: 0.0313 - accuracy: 0.9903\n"
     ]
    },
    {
     "data": {
      "text/plain": [
       "<tensorflow.python.keras.callbacks.History at 0x26c9671d6a0>"
      ]
     },
     "execution_count": 12,
     "metadata": {},
     "output_type": "execute_result"
    }
   ],
   "source": [
    "batch_size = 512\n",
    "epochs = 15\n",
    "model.fit(x = x_train, y= y_train, batch_size = batch_size, epochs = epochs)"
   ]
  },
  {
   "cell_type": "code",
   "execution_count": 13,
   "id": "hindu-clause",
   "metadata": {},
   "outputs": [
    {
     "name": "stdout",
     "output_type": "stream",
     "text": [
      "  1/313 [..............................] - ETA: 0s - loss: 0.0350 - accuracy: 1.0000WARNING:tensorflow:Callbacks method `on_test_batch_end` is slow compared to the batch time (batch time: 0.0000s vs `on_test_batch_end` time: 0.0010s). Check your callbacks.\n",
      "313/313 [==============================] - 0s 483us/step - loss: 0.0693 - accuracy: 0.9802\n",
      "Test Loss: 0.06927663832902908, Test Accuracy: 0.9801999926567078\n"
     ]
    }
   ],
   "source": [
    "test_loss, test_acc = model.evaluate(x_test, y_test)\n",
    "print(\"Test Loss: {}, Test Accuracy: {}\".format(test_loss, test_acc))"
   ]
  },
  {
   "cell_type": "code",
   "execution_count": 38,
   "id": "considered-amateur",
   "metadata": {},
   "outputs": [
    {
     "name": "stdout",
     "output_type": "stream",
     "text": [
      "[[1.4581440e-06 1.2024045e-05 4.4784992e-06 ... 9.9981374e-01\n",
      "  5.5877447e-08 1.4971031e-05]\n",
      " [4.0991984e-11 4.2627260e-08 9.9999988e-01 ... 1.1700843e-11\n",
      "  1.2090716e-09 1.9700653e-14]\n",
      " [2.4170376e-06 9.9885643e-01 9.5059353e-05 ... 2.1324812e-04\n",
      "  5.9193512e-04 2.6492271e-06]\n",
      " ...\n",
      " [1.0772983e-11 1.3080297e-10 8.9209774e-14 ... 5.9624028e-08\n",
      "  9.5503894e-10 8.0229501e-07]\n",
      " [1.4444991e-09 1.7801928e-10 8.3806345e-10 ... 4.1317133e-10\n",
      "  1.7160743e-07 1.3457780e-11]\n",
      " [5.6794791e-09 1.1626852e-11 6.2003080e-10 ... 1.1032738e-15\n",
      "  1.4806646e-10 8.1801335e-13]]\n",
      "[7 2 1 ... 4 5 6]\n"
     ]
    },
    {
     "data": {
      "text/plain": [
       "<matplotlib.image.AxesImage at 0x26c98c956d0>"
      ]
     },
     "execution_count": 38,
     "metadata": {},
     "output_type": "execute_result"
    },
    {
     "data": {
      "image/png": "[encoded data removed]",
      "text/plain": [
       "<Figure size 432x288 with 1 Axes>"
      ]
     },
     "metadata": {
      "needs_background": "light"
     },
     "output_type": "display_data"
    }
   ],
   "source": [
    "y_pred = model.predict(x_test)\n",
    "y_pred_classes = np.argmax(y_pred, axis=1)\n",
    "print(y_pred)\n",
    "print(y_pred_classes)\n",
    "\n",
    "random_idx = np.random.choice(len(x_test))\n",
    "x_sample = x_test[random_idx]\n",
    "y_true = np.argmax(y_test, axis=1)\n",
    "y_sample_true = y_true[random_idx]\n",
    "y_sample_pred_class = y_pred_classes[random_idx]\n",
    "\n",
    "plt.title(\"Predicted: {}, True: {}\".format(y_sample_pred_class, y_sample_true), fontsize=16)\n",
    "plt.imshow(x_sample.reshape(28, 28), cmap='gray')"
   ]
  },
  {
   "cell_type": "code",
   "execution_count": 21,
   "id": "meaning-college",
   "metadata": {},
   "outputs": [
    {
     "data": {
      "image/png": "[encoded data removed]",
      "text/plain": [
       "<Figure size 1080x720 with 2 Axes>"
      ]
     },
     "metadata": {
      "needs_background": "light"
     },
     "output_type": "display_data"
    }
   ],
   "source": [
    "\n",
    "confusion_mtx = confusion_matrix(y_true, y_pred_classes)\n",
    "\n",
    "# Plot\n",
    "fig, ax = plt.subplots(figsize=(15,10))\n",
    "ax = sns.heatmap(confusion_mtx, annot=True, fmt='d', ax=ax, cmap=\"Blues\")\n",
    "ax.set_xlabel('Predicted Label')\n",
    "ax.set_ylabel('True Label')\n",
    "ax.set_title('Confusion Matrix');\n"
   ]
  },
  {
   "cell_type": "code",
   "execution_count": null,
   "id": "announced-blackberry",
   "metadata": {},
   "outputs": [],
   "source": []
  }
 ],
 "metadata": {
  "kernelspec": {
   "display_name": "Python 3",
   "language": "python",
   "name": "python3"
  },
  "language_info": {
   "codemirror_mode": {
    "name": "ipython",
    "version": 3
   },
   "file_extension": ".py",
   "mimetype": "text/x-python",
   "name": "python",
   "nbconvert_exporter": "python",
   "pygments_lexer": "ipython3",
   "version": "3.8.5"
  }
 },
 "nbformat": 4,
 "nbformat_minor": 5
}
